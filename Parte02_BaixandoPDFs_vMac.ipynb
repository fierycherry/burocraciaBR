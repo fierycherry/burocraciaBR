{
 "cells": [
  {
   "cell_type": "code",
   "execution_count": 59,
   "metadata": {},
   "outputs": [],
   "source": [
    "import requests\n",
    "\n",
    "from csv import reader\n",
    "\n",
    "# F U N C I O N A    e é   S I M P L E S !!!!!!!!!!\n",
    "# https://pt.stackoverflow.com/questions/255039/gerar-arquivo-pdf-a-partir-de-um-pdf-object\n",
    "\n",
    "\n",
    "\n",
    "def baixar_pdf(url_atual, nm_diario):\n",
    "# link montado, juntando exemplo e ano 2022\n",
    "    # url = \"http://pesquisa.in.gov.br/imprensa/servlet/INPDFViewer?jornal=529&pagina=3&data=19/01/2022&captchafield=firstAccess\"\n",
    "\n",
    "    # Obtém o PDF do link, e guarda na memória\n",
    "    resp = requests.get(url_atual)\n",
    "\n",
    "    # Salva o PDF\n",
    "    \n",
    "    with open(nm_diario, \"wb\") as code:\n",
    "        code.write(resp.content)"
   ]
  },
  {
   "cell_type": "code",
   "execution_count": 60,
   "metadata": {},
   "outputs": [],
   "source": [
    "# url = \"http://pesquisa.in.gov.br/imprensa/servlet/INPDFViewer?jornal=529&pagina=3&data=19/01/2022&captchafield=firstAccess\"\n",
    "url_ini = \"http://pesquisa.in.gov.br/imprensa/servlet/INPDFViewer\" \n",
    "url_fim = \"&captchafield=firstAccess\"\n",
    "\n",
    "#caminho_do_upload = '/Users/nayaramcd/Documents/UFSCar/Pesquisa/Dados/pesquisa_dou_python/'\n",
    "caminho_do_upload = \"VCOL\"\n",
    "    \n",
    "# open file\n",
    "#with open(\"abc01_2022.csv\", \"r\" ) as my_file:\n",
    "with open(\"/Users/nayaramcd/Documents/UFSCar/Pesquisa/Dados/pesquisa_dou_python/VCOL_2000.csv\", \"r\" ) as my_file:\n",
    "    # pass the file object to reader()\n",
    "    file_reader = reader(my_file)\n",
    "    # do this for all the rows\n",
    "    #for i in file_reader:\n",
    "    for i, row in enumerate(file_reader):\n",
    "        #print(row)\n",
    "        if row[6] != '0':\n",
    "            #pos_ini_url = row[4].index(\"?\") \n",
    "            pos_ini_url = row[8].index(\"?\") \n",
    "       # print(ini_url)\n",
    "        # print(i[1][ini_url:])\n",
    "            url = url_ini + (row[8][pos_ini_url:])  + url_fim\n",
    "        #print(url) \n",
    "        #print(nm_diario)\n",
    "            nm_diario = caminho_do_upload + \"diario\" + str(i)  + \".pdf\"\n",
    "            baixar_pdf(url, nm_diario)\n",
    "            #print(url)\n",
    "        \n",
    "#print(tam_str)"
   ]
  },
  {
   "cell_type": "code",
   "execution_count": null,
   "metadata": {},
   "outputs": [],
   "source": []
  },
  {
   "cell_type": "code",
   "execution_count": null,
   "metadata": {},
   "outputs": [],
   "source": []
  }
 ],
 "metadata": {
  "kernelspec": {
   "display_name": "Python 3 (ipykernel)",
   "language": "python",
   "name": "python3"
  },
  "language_info": {
   "codemirror_mode": {
    "name": "ipython",
    "version": 3
   },
   "file_extension": ".py",
   "mimetype": "text/x-python",
   "name": "python",
   "nbconvert_exporter": "python",
   "pygments_lexer": "ipython3",
   "version": "3.9.7"
  }
 },
 "nbformat": 4,
 "nbformat_minor": 2
}
